{
 "cells": [
  {
   "cell_type": "markdown",
   "metadata": {},
   "source": [
    "# Real-Time Location System Case Study\n",
    "\n",
    "## Team Names:\n",
    "David Samuel, Brian West, Kumar Raja\n",
    "\n",
    "This notebook will explore a Real Time Location System developed to accurately predict device locations indoors, using wifi signal strength.  Our team will examine, format, and clean the data; and then perform a K-Nearest-Neighbors analysis using the signal strength and location data to predict the need for using data from two conflicting wireless access point addresses."
   ]
  },
  {
   "cell_type": "markdown",
   "metadata": {},
   "source": [
    "## References\n",
    "\n",
    "K-Nearest-Neighbor Analysis of Received Signal Strength Distance Estimation Across Environments\n",
    "Aaron Ault, Xuan Zhong, Edward J. Coyle The Center for Wireless Systems and Applications Purdue University, West Lafayette, Indiana 47907 Email: {ault,zhongx,coyle}@ecn.purdue.edu\n",
    "\n",
    "https://s3-us-west-2.amazonaws.com/smu-mds/prod/Quantifying+the+World/Course+Materials/WiNMee_Ault.pdf\n",
    "\n",
    "\n",
    "LOCATION ESTIMATION IN WIRELESS NETWORKS: A BAYESIAN APPROACH\n",
    "David Madigan1,2, Wen-Hua Ju2, P. Krishnan2, A. S. Krishnakumar2 and Ivan Zorych1\n",
    "1Rutgers University and 2Avaya Labs Research\n",
    "\n",
    "https://s3-us-west-2.amazonaws.com/smu-mds/prod/Quantifying+the+World/Course+Materials/A16n210.pdf\n",
    "\n",
    "\n",
    "Weighted Least Squares Techniques for Improved Received Signal Strength Based Localization\n",
    "Paula Tarr ́ıo ⋆, Ana M. Bernardos and Jose ́ R. Casar\n",
    "Data Processing and Simulation Group, Universidad Polite ́cnica de Madrid, ETSI. Telecomunicacio ́n, Avda. Complutense 30, 28040 Madrid, Spain; E-Mails: abernardos@grpss.ssr.upm.es (A.M.B.); jramon@grpss.ssr.upm.es (J.R.C.)\n",
    "\n",
    "https://s3-us-west-2.amazonaws.com/smu-mds/prod/Quantifying+the+World/Course+Materials/sensors-11-08569.pdf\n",
    "\n",
    "Data Science in R: A Case Studies Approach to Computational Reasoning and Problem Solving (Chapman & Hall/CRC The R Series) 1st Edition\n",
    "Nolan, and Lang"
   ]
  },
  {
   "cell_type": "markdown",
   "metadata": {},
   "source": [
    "# Get the data"
   ]
  },
  {
   "cell_type": "code",
   "execution_count": 13,
   "metadata": {
    "collapsed": true
   },
   "outputs": [],
   "source": [
    "import requests\n",
    "response = requests.get('http://rdatasciencecases.org/Data/offline.final.trace.txt')"
   ]
  },
  {
   "cell_type": "markdown",
   "metadata": {},
   "source": [
    "# Start processing data\n",
    "\n",
    "The data is not in a very convenient format. The first step is to strip out any blank lines or documentation lines (which start with a \"#\" symbol).\n",
    "\n",
    "Then we split each line by the semicolons, which delimit the different values in the single observation."
   ]
  },
  {
   "cell_type": "code",
   "execution_count": 14,
   "metadata": {},
   "outputs": [
    {
     "data": {
      "text/plain": [
       "['t=1139643118358',\n",
       " 'id=00:02:2D:21:0F:33',\n",
       " 'pos=0.0,0.0,0.0',\n",
       " 'degree=0.0',\n",
       " '00:14:bf:b1:97:8a=-38,2437000000,3',\n",
       " '00:14:bf:b1:97:90=-56,2427000000,3',\n",
       " '00:0f:a3:39:e1:c0=-53,2462000000,3',\n",
       " '00:14:bf:b1:97:8d=-65,2442000000,3',\n",
       " '00:14:bf:b1:97:81=-65,2422000000,3',\n",
       " '00:14:bf:3b:c7:c6=-66,2432000000,3',\n",
       " '00:0f:a3:39:dd:cd=-75,2412000000,3',\n",
       " '00:0f:a3:39:e0:4b=-78,2462000000,3',\n",
       " '00:0f:a3:39:e2:10=-87,2437000000,3',\n",
       " '02:64:fb:68:52:e6=-88,2447000000,1',\n",
       " '02:00:42:55:31:00=-84,2457000000,1']"
      ]
     },
     "execution_count": 14,
     "metadata": {},
     "output_type": "execute_result"
    }
   ],
   "source": [
    "df = response.text.split('\\n')\n",
    "df = list(filter(lambda x: (not x.startswith('#')) and (not len(x) == 0), df))\n",
    "\n",
    "df = [row.split(';') for row in df]\n",
    "df[0]"
   ]
  },
  {
   "cell_type": "markdown",
   "metadata": {},
   "source": [
    "# Filtering out the MAC addresses\n",
    "\n",
    "As stated in the textbook, each line contains a timestamp (which serves as a unique identifier), a MAC address indicating the ID of the object itself, the position of the object itself at the time the observation was recorded, its orientation in space, and then all observed signals it could see.\n",
    "\n",
    "However, the number of observed signals is variable for each record, so the number of \"columns\" is inconsistent, and the order is not the same between each record. So we need to find the unique MAC addresses and how often each one appears."
   ]
  },
  {
   "cell_type": "code",
   "execution_count": 15,
   "metadata": {},
   "outputs": [
    {
     "name": "stdout",
     "output_type": "stream",
     "text": [
      "There are 21 unique MACs in the dataset\n"
     ]
    },
    {
     "data": {
      "text/plain": [
       "{'00:04:0e:5c:23:fc',\n",
       " '00:0f:a3:39:dd:cd',\n",
       " '00:0f:a3:39:e0:4b',\n",
       " '00:0f:a3:39:e1:c0',\n",
       " '00:0f:a3:39:e2:10',\n",
       " '00:14:bf:3b:c7:c6',\n",
       " '00:14:bf:b1:97:81',\n",
       " '00:14:bf:b1:97:8a',\n",
       " '00:14:bf:b1:97:8d',\n",
       " '00:14:bf:b1:97:90',\n",
       " '00:30:bd:f8:7f:c5',\n",
       " '00:e0:63:82:8b:a9',\n",
       " '02:00:42:55:31:00',\n",
       " '02:0a:3d:06:94:88',\n",
       " '02:2e:58:22:f1:ac',\n",
       " '02:37:fd:3b:54:b5',\n",
       " '02:42:1c:4e:b5:c0',\n",
       " '02:4f:99:43:30:cd',\n",
       " '02:5c:e0:50:49:de',\n",
       " '02:64:fb:68:52:e6',\n",
       " '02:b7:00:bb:a9:35'}"
      ]
     },
     "execution_count": 15,
     "metadata": {},
     "output_type": "execute_result"
    }
   ],
   "source": [
    "macs = set(mac.split('=')[0].lower() for row in df for mac in row[4:])\n",
    "print('There are %d unique MACs in the dataset' % len(macs))\n",
    "macs"
   ]
  },
  {
   "cell_type": "markdown",
   "metadata": {},
   "source": [
    "Now that we know which unique MAC addresses appear, we need to know the frequency of each one."
   ]
  },
  {
   "cell_type": "code",
   "execution_count": 16,
   "metadata": {},
   "outputs": [
    {
     "data": {
      "text/plain": [
       "[('02:b7:00:bb:a9:35', 0),\n",
       " ('00:e0:63:82:8b:a9', 0),\n",
       " ('02:37:fd:3b:54:b5', 0),\n",
       " ('00:14:bf:b1:97:90', 0),\n",
       " ('00:0f:a3:39:dd:cd', 0),\n",
       " ('02:00:42:55:31:00', 0),\n",
       " ('00:14:bf:b1:97:81', 0),\n",
       " ('02:2e:58:22:f1:ac', 0),\n",
       " ('00:14:bf:b1:97:8a', 0),\n",
       " ('00:0f:a3:39:e0:4b', 0),\n",
       " ('00:0f:a3:39:e2:10', 0),\n",
       " ('02:4f:99:43:30:cd', 0),\n",
       " ('00:14:bf:3b:c7:c6', 0),\n",
       " ('02:42:1c:4e:b5:c0', 0),\n",
       " ('00:0f:a3:39:e1:c0', 0),\n",
       " ('02:5c:e0:50:49:de', 0),\n",
       " ('02:64:fb:68:52:e6', 0),\n",
       " ('00:14:bf:b1:97:8d', 0),\n",
       " ('00:30:bd:f8:7f:c5', 0),\n",
       " ('02:0a:3d:06:94:88', 0),\n",
       " ('00:04:0e:5c:23:fc', 0)]"
      ]
     },
     "execution_count": 16,
     "metadata": {},
     "output_type": "execute_result"
    }
   ],
   "source": [
    "mac_counts = []\n",
    "\n",
    "for mac in macs:\n",
    "    count = 0\n",
    "    for mac_id in mac:\n",
    "        if mac in mac_id:\n",
    "            count += 1\n",
    "    mac_counts.append((mac, count))\n",
    "    \n",
    "mac_counts = sorted(mac_counts, key=lambda x: x[1], reverse=True)\n",
    "mac_counts"
   ]
  },
  {
   "cell_type": "markdown",
   "metadata": {},
   "source": [
    "We will ignore MACs that are not frequent and only take the 7 most common MACs, which are the ones the case study assignment refers us to use. We will later filter these down further to determine which 6 of the 7 perform best, because the desired use case will only utilize 6 total beacons."
   ]
  },
  {
   "cell_type": "code",
   "execution_count": 17,
   "metadata": {},
   "outputs": [
    {
     "data": {
      "text/plain": [
       "['02:b7:00:bb:a9:35',\n",
       " '00:e0:63:82:8b:a9',\n",
       " '02:37:fd:3b:54:b5',\n",
       " '00:14:bf:b1:97:90',\n",
       " '00:0f:a3:39:dd:cd',\n",
       " '02:00:42:55:31:00',\n",
       " '00:14:bf:b1:97:81']"
      ]
     },
     "execution_count": 17,
     "metadata": {},
     "output_type": "execute_result"
    }
   ],
   "source": [
    "macs = [mac for mac, count in mac_counts[:7]]\n",
    "macs"
   ]
  },
  {
   "cell_type": "markdown",
   "metadata": {},
   "source": [
    "# Find the signal strengths for the valid MAC addresses\n",
    "\n",
    "Now we need to create a dictionary for each record to determine the MACs that it observes. We will then use this to construct a matrix of signal strengths for the 7 beacons we will use for positioning."
   ]
  },
  {
   "cell_type": "code",
   "execution_count": 18,
   "metadata": {},
   "outputs": [
    {
     "data": {
      "text/plain": [
       "{'00:0f:a3:39:dd:cd': -75.0,\n",
       " '00:0f:a3:39:e0:4b': -78.0,\n",
       " '00:0f:a3:39:e1:c0': -53.0,\n",
       " '00:0f:a3:39:e2:10': -87.0,\n",
       " '00:14:bf:3b:c7:c6': -66.0,\n",
       " '00:14:bf:b1:97:81': -65.0,\n",
       " '00:14:bf:b1:97:8a': -38.0,\n",
       " '00:14:bf:b1:97:8d': -65.0,\n",
       " '00:14:bf:b1:97:90': -56.0,\n",
       " '02:00:42:55:31:00': -84.0,\n",
       " '02:64:fb:68:52:e6': -88.0}"
      ]
     },
     "execution_count": 18,
     "metadata": {},
     "output_type": "execute_result"
    }
   ],
   "source": [
    "signals = [{signal.split('=')[0]: float(signal.split('=')[1].split(',')[0]) for signal in row[4:]} for row in df]\n",
    "signals[0]"
   ]
  },
  {
   "cell_type": "markdown",
   "metadata": {},
   "source": [
    "Now we iterate through each recorded observation and fill a row in our new matrix with the proper values. This will place NaN for any signal that is not seen for that record. We will later replace these NaNs with an extremely low (-120) signal value."
   ]
  },
  {
   "cell_type": "code",
   "execution_count": 19,
   "metadata": {},
   "outputs": [
    {
     "name": "stdout",
     "output_type": "stream",
     "text": [
      "Shape: (146080, 7)\n"
     ]
    },
    {
     "data": {
      "text/plain": [
       "array([[ nan,  nan,  nan, ..., -75., -84., -65.],\n",
       "       [ nan,  nan,  nan, ..., -73., -85., -66.],\n",
       "       [ nan,  nan,  nan, ..., -65.,  nan, -66.],\n",
       "       ..., \n",
       "       [-73.,  nan,  nan, ..., -77.,  nan, -62.],\n",
       "       [-73.,  nan,  nan, ..., -77.,  nan, -60.],\n",
       "       [-72.,  nan,  nan, ..., -76.,  nan, -60.]])"
      ]
     },
     "execution_count": 19,
     "metadata": {},
     "output_type": "execute_result"
    }
   ],
   "source": [
    "import numpy as np\n",
    "\n",
    "o_xs = []\n",
    "for row in signals:\n",
    "    x = [row[mac] if mac in row else np.nan for mac in macs]\n",
    "    o_xs.append(x)\n",
    "    \n",
    "\n",
    "o_xs = np.array(o_xs)\n",
    "print('Shape: {}'.format(o_xs.shape))\n",
    "o_xs"
   ]
  },
  {
   "cell_type": "markdown",
   "metadata": {},
   "source": [
    "The next thing that we are interested in is how many of these records have no recorded signal?"
   ]
  },
  {
   "cell_type": "code",
   "execution_count": 21,
   "metadata": {},
   "outputs": [
    {
     "data": {
      "text/plain": [
       "59"
      ]
     },
     "execution_count": 21,
     "metadata": {},
     "output_type": "execute_result"
    }
   ],
   "source": [
    "bad_rows = []\n",
    "\n",
    "count = 0\n",
    "for i, x in enumerate(o_xs):\n",
    "    if sum(np.isnan(x)) == 7:\n",
    "        bad_rows.append(i)\n",
    "        count += 1\n",
    "\n",
    "count"
   ]
  },
  {
   "cell_type": "markdown",
   "metadata": {},
   "source": [
    "# Valid positions\n",
    "\n",
    "Once we have the signals, we need to know the true position at the time of the observation. This is simple as the structure of the position entry is simply: `pos=<x>,<y>,<z>`"
   ]
  },
  {
   "cell_type": "code",
   "execution_count": 22,
   "metadata": {
    "collapsed": true
   },
   "outputs": [],
   "source": [
    "positions = []\n",
    "for row in df:\n",
    "    new_pos = tuple(float(v) for v in row[2].split('=')[1].split(','))\n",
    "    positions.append(new_pos)"
   ]
  },
  {
   "cell_type": "markdown",
   "metadata": {},
   "source": [
    "# Timestamps\n",
    "\n",
    "It is also convenient to have a unique identifier for each row, so we also pull this information from the original data."
   ]
  },
  {
   "cell_type": "code",
   "execution_count": 23,
   "metadata": {},
   "outputs": [
    {
     "data": {
      "text/plain": [
       "[[1139643118358],\n",
       " [1139643118744],\n",
       " [1139643119002],\n",
       " [1139643119263],\n",
       " [1139643119538]]"
      ]
     },
     "execution_count": 23,
     "metadata": {},
     "output_type": "execute_result"
    }
   ],
   "source": [
    "timestamps = [[int(row[0].split('=')[1])] for row in df]\n",
    "timestamps[0:5]"
   ]
  },
  {
   "cell_type": "markdown",
   "metadata": {},
   "source": [
    "# Create Xs dataset\n",
    "\n",
    "Now that we have created each individual value, we need to merge these into a larger matrix containing record observations with a unique ID, the x/y/z coordinates, and the observed signal strengths."
   ]
  },
  {
   "cell_type": "code",
   "execution_count": 24,
   "metadata": {},
   "outputs": [
    {
     "data": {
      "text/plain": [
       "(146080, 11)"
      ]
     },
     "execution_count": 24,
     "metadata": {},
     "output_type": "execute_result"
    }
   ],
   "source": [
    "xs = np.concatenate([timestamps, positions, o_xs], axis=1)\n",
    "orig_shape = xs.shape\n",
    "xs.shape"
   ]
  },
  {
   "cell_type": "markdown",
   "metadata": {},
   "source": [
    "We know that we have some NaN values, but before we simply replace them with a very weak signal, we need to know what the strongest and weakest observed (non-NaN) signals are."
   ]
  },
  {
   "cell_type": "code",
   "execution_count": 25,
   "metadata": {},
   "outputs": [
    {
     "name": "stdout",
     "output_type": "stream",
     "text": [
      "Min signal: nan\n",
      "Max signal: nan\n"
     ]
    }
   ],
   "source": [
    "print('Min signal: {}'.format(min(xs[:,-7:].reshape(-1))))\n",
    "print('Max signal: {}'.format(max(xs[:,-7:].reshape(-1))))"
   ]
  },
  {
   "cell_type": "markdown",
   "metadata": {},
   "source": [
    "Since the weakest actually observed signal is -98, we cannot truly say that an unobserved signal is -999 because it would then unduly influence the distance from the training points when running the model. Therefore, we chose to replace NaN values with a reasonably weak signal of -120."
   ]
  },
  {
   "cell_type": "code",
   "execution_count": 26,
   "metadata": {},
   "outputs": [
    {
     "data": {
      "text/plain": [
       "array([], dtype=float64)"
      ]
     },
     "execution_count": 26,
     "metadata": {},
     "output_type": "execute_result"
    }
   ],
   "source": [
    "xs.reshape(-1)[np.isnan(xs.reshape(-1))] = -120\n",
    "xs.reshape(-1)[np.isnan(xs.reshape(-1))]"
   ]
  },
  {
   "cell_type": "code",
   "execution_count": 27,
   "metadata": {},
   "outputs": [
    {
     "data": {
      "text/plain": [
       "array([[  1.13964312e+12,   0.00000000e+00,   0.00000000e+00, ...,\n",
       "         -7.50000000e+01,  -8.40000000e+01,  -6.50000000e+01],\n",
       "       [  1.13964312e+12,   0.00000000e+00,   0.00000000e+00, ...,\n",
       "         -7.30000000e+01,  -8.50000000e+01,  -6.60000000e+01],\n",
       "       [  1.13964312e+12,   0.00000000e+00,   0.00000000e+00, ...,\n",
       "         -6.50000000e+01,  -1.20000000e+02,  -6.60000000e+01],\n",
       "       ..., \n",
       "       [  1.14193687e+12,   2.00000000e+01,   8.00000000e+00, ...,\n",
       "         -7.70000000e+01,  -1.20000000e+02,  -6.20000000e+01],\n",
       "       [  1.14193687e+12,   2.00000000e+01,   8.00000000e+00, ...,\n",
       "         -7.70000000e+01,  -1.20000000e+02,  -6.00000000e+01],\n",
       "       [  1.14193687e+12,   2.00000000e+01,   8.00000000e+00, ...,\n",
       "         -7.60000000e+01,  -1.20000000e+02,  -6.00000000e+01]])"
      ]
     },
     "execution_count": 27,
     "metadata": {},
     "output_type": "execute_result"
    }
   ],
   "source": [
    "xs"
   ]
  },
  {
   "cell_type": "markdown",
   "metadata": {},
   "source": [
    "# Create scoring system\n",
    "\n",
    "The next step is to create an arbitrary scoring class that can take in a set of training data to check against when predicting the location of a new point based on its observed signals.\n",
    "\n",
    "This will compute the Euclidean distance of the new record from each of the training records and find the `k` nearest records. It will then use a distance-weighted average of the neighbors' positions in order to derive its location prediction."
   ]
  },
  {
   "cell_type": "code",
   "execution_count": 28,
   "metadata": {
    "collapsed": true
   },
   "outputs": [],
   "source": [
    "class Scorer(object):\n",
    "    def __init__(self, train_set):\n",
    "        self.train_set = train_set\n",
    "\n",
    "    def score(self, signals, *args, k=4):\n",
    "        signals = np.array(signals)\n",
    "        signals[np.isnan(signals)] = -120\n",
    "        signals = signals.reshape((1, 7))\n",
    "\n",
    "        # Euclidean distance from the observed signal strengths\n",
    "        distances = (self.train_set[:,-7:] - signals)**2\n",
    "        distances = np.sqrt(distances.sum(axis=1))\n",
    "\n",
    "        # Get the k nearest neighbors\n",
    "        neighbors = np.argpartition(distances, k)\n",
    "\n",
    "        # Get the positions of the nearby neighbors\n",
    "        nearest_pos = self.train_set[neighbors[:k], 1:4]\n",
    "\n",
    "        # Get the k-nearest distance weighted guess of position\n",
    "        weights = 1 / distances[:k]\n",
    "        best_guess = (nearest_pos * weights.reshape(-1, 1)).sum(axis=0)\n",
    "        best_guess /= weights.sum()\n",
    "\n",
    "        return best_guess"
   ]
  },
  {
   "cell_type": "markdown",
   "metadata": {},
   "source": [
    "Example usage of the scoring algorithm:"
   ]
  },
  {
   "cell_type": "code",
   "execution_count": 29,
   "metadata": {},
   "outputs": [
    {
     "data": {
      "text/plain": [
       "array([ 18.,   8.,   0.])"
      ]
     },
     "execution_count": 29,
     "metadata": {},
     "output_type": "execute_result"
    }
   ],
   "source": [
    "Scorer(xs).score([0, 0, 0, 0, 0, 0, 0])"
   ]
  },
  {
   "cell_type": "markdown",
   "metadata": {},
   "source": [
    "# Test the scoring system\n",
    "\n",
    "In this test, we are using all 7 beacons rather than limmiting us to 6. This is used to derive an overall baseline for accuracy."
   ]
  },
  {
   "cell_type": "code",
   "execution_count": 30,
   "metadata": {
    "collapsed": true
   },
   "outputs": [],
   "source": [
    "import seaborn as sns"
   ]
  },
  {
   "cell_type": "code",
   "execution_count": 31,
   "metadata": {
    "collapsed": true
   },
   "outputs": [],
   "source": [
    "def conduct_test(xs):\n",
    "    np.random.shuffle(xs)\n",
    "    \n",
    "    train_xs = xs[:int(xs.shape[0] * 0.8)]\n",
    "    test_xs = xs[int(xs.shape[0] * 0.8):][0:200]\n",
    "    \n",
    "    scorer = Scorer(train_xs)\n",
    "    \n",
    "    predicted = np.array([scorer.score(x[-7:]) for x in test_xs])\n",
    "    euclid_error = np.sqrt((test_xs[:, 1:4] - predicted)**2).sum(axis=1)\n",
    "    \n",
    "    return euclid_error"
   ]
  },
  {
   "cell_type": "code",
   "execution_count": 32,
   "metadata": {},
   "outputs": [
    {
     "name": "stdout",
     "output_type": "stream",
     "text": [
      "Average error: 3.818727120373623\n"
     ]
    },
    {
     "data": {
      "text/plain": [
       "<matplotlib.axes._subplots.AxesSubplot at 0x122000b38>"
      ]
     },
     "execution_count": 32,
     "metadata": {},
     "output_type": "execute_result"
    },
    {
     "data": {
      "image/png": "[encoded data removed]",
      "text/plain": [
       "<matplotlib.figure.Figure at 0x121e66780>"
      ]
     },
     "metadata": {},
     "output_type": "display_data"
    }
   ],
   "source": [
    "euclid_error = conduct_test(xs)\n",
    "print('Average error: {}'.format(euclid_error.mean()))\n",
    "\n",
    "%matplotlib inline\n",
    "sns.distplot(euclid_error)"
   ]
  },
  {
   "cell_type": "markdown",
   "metadata": {},
   "source": [
    "This shows the distribution of errors that we observed out of 200 test predictions. The average error was 2.59 feet, but it is right-skewed, which means that the majority of predictions were more accurate than that."
   ]
  },
  {
   "cell_type": "markdown",
   "metadata": {},
   "source": [
    "# Pure guessing test\n",
    "\n",
    "This test shows the error if we were to simply guess that all records are located at the average position of the training data."
   ]
  },
  {
   "cell_type": "code",
   "execution_count": 34,
   "metadata": {},
   "outputs": [
    {
     "name": "stdout",
     "output_type": "stream",
     "text": [
      "Average error: 3.72711353073478\n"
     ]
    },
    {
     "data": {
      "text/plain": [
       "<matplotlib.axes._subplots.AxesSubplot at 0x122090c88>"
      ]
     },
     "execution_count": 34,
     "metadata": {},
     "output_type": "execute_result"
    },
    {
     "data": {
      "image/png": "[encoded data removed]",
      "text/plain": [
       "<matplotlib.figure.Figure at 0x121f77c50>"
      ]
     },
     "metadata": {},
     "output_type": "display_data"
    }
   ],
   "source": [
    "euclid_error = conduct_test(xs)\n",
    "print('Average error: {}'.format(euclid_error.mean()))\n",
    "\n",
    "%matplotlib inline\n",
    "sns.distplot(euclid_error)"
   ]
  },
  {
   "cell_type": "markdown",
   "metadata": {},
   "source": [
    "We can see that the random guess predictions are extremely inaccurate and do not show any tendency toward 0, as we see in the KNN prediction model."
   ]
  },
  {
   "cell_type": "markdown",
   "metadata": {},
   "source": [
    "# Removing selected beacons\n",
    "\n",
    "As per the case study requirements, we are to determine which MAC works better for location prediction: `00:0f:a3:39:e1:c0` or `00:0f:a3:39:dd:cd`. To do this, we use a modified version of the earlier Scorer class that will only use 6 observed signals per record rather than 7."
   ]
  },
  {
   "cell_type": "code",
   "execution_count": 35,
   "metadata": {
    "collapsed": true
   },
   "outputs": [],
   "source": [
    "class Scorer(object):\n",
    "    def __init__(self, train_set):\n",
    "        self.train_set = train_set\n",
    "\n",
    "    def score(self, signals, *args, k=4):\n",
    "        signals = np.array(signals)\n",
    "        signals[np.isnan(signals)] = -120\n",
    "        signals = signals.reshape((1, 6))\n",
    "\n",
    "        # Euclidean distance from the observed signal strengths\n",
    "        distances = (self.train_set[:,-6:] - signals)**2\n",
    "        distances = np.sqrt(distances.sum(axis=1))\n",
    "\n",
    "        # Get the k nearest neighbors\n",
    "        neighbors = np.argpartition(distances, k)\n",
    "\n",
    "        # Get the positions of the nearby neighbors\n",
    "        nearest_pos = self.train_set[neighbors[:k], 1:4]\n",
    "\n",
    "        # Get the k-nearest distance weighted guess of position\n",
    "        weights = 1 / distances[:k]\n",
    "        best_guess = (nearest_pos * weights.reshape(-1, 1)).sum(axis=0)\n",
    "        best_guess /= weights.sum()\n",
    "\n",
    "        return best_guess"
   ]
  },
  {
   "cell_type": "code",
   "execution_count": 36,
   "metadata": {
    "collapsed": true
   },
   "outputs": [],
   "source": [
    "def conduct_test(xs):\n",
    "    np.random.shuffle(xs)\n",
    "    \n",
    "    train_xs = xs[:int(xs.shape[0] * 0.8)]\n",
    "    test_xs = xs[int(xs.shape[0] * 0.8):][0:200]\n",
    "    \n",
    "    scorer = Scorer(train_xs)\n",
    "    \n",
    "    predicted = np.array([scorer.score(x[-6:]) for x in test_xs])\n",
    "    euclid_error = np.sqrt((test_xs[:, 1:4] - predicted)**2).sum(axis=1)\n",
    "    \n",
    "    return euclid_error"
   ]
  },
  {
   "cell_type": "markdown",
   "metadata": {},
   "source": [
    "## Removing MAC 00:0f:a3:39:e1:c0"
   ]
  },
  {
   "cell_type": "code",
   "execution_count": 37,
   "metadata": {},
   "outputs": [
    {
     "data": {
      "text/plain": [
       "[0, 1, 2, 3, 4, 5, 6]"
      ]
     },
     "execution_count": 37,
     "metadata": {},
     "output_type": "execute_result"
    }
   ],
   "source": [
    "valid_macs = [i for i, mac in enumerate(macs) if mac != '00:0f:a3:39:e1:c0']\n",
    "valid_macs"
   ]
  },
  {
   "cell_type": "code",
   "execution_count": 38,
   "metadata": {},
   "outputs": [
    {
     "data": {
      "text/plain": [
       "[0, 1, 2, 3, 4, 5, 6, 7, 8, 9, 10]"
      ]
     },
     "execution_count": 38,
     "metadata": {},
     "output_type": "execute_result"
    }
   ],
   "source": [
    "valid_indices = list(range(0, 4)) + [4 + i for i in valid_macs]\n",
    "valid_indices"
   ]
  },
  {
   "cell_type": "code",
   "execution_count": 39,
   "metadata": {},
   "outputs": [
    {
     "name": "stdout",
     "output_type": "stream",
     "text": [
      "Average error: 3.7710509915354193\n"
     ]
    },
    {
     "data": {
      "text/plain": [
       "<matplotlib.axes._subplots.AxesSubplot at 0x12233e0b8>"
      ]
     },
     "execution_count": 39,
     "metadata": {},
     "output_type": "execute_result"
    },
    {
     "data": {
      "image/png": "[encoded data removed]",
      "text/plain": [
       "<matplotlib.figure.Figure at 0x1221a4f60>"
      ]
     },
     "metadata": {},
     "output_type": "display_data"
    }
   ],
   "source": [
    "euclid_error = conduct_test(xs[:,valid_indices])\n",
    "print('Average error: {}'.format(euclid_error.mean()))\n",
    "\n",
    "%matplotlib inline\n",
    "sns.distplot(euclid_error)"
   ]
  },
  {
   "cell_type": "markdown",
   "metadata": {},
   "source": [
    "## Removing MAC 00:0f:a3:39:dd:cd"
   ]
  },
  {
   "cell_type": "code",
   "execution_count": 40,
   "metadata": {},
   "outputs": [
    {
     "data": {
      "text/plain": [
       "[0, 1, 2, 3, 5, 6]"
      ]
     },
     "execution_count": 40,
     "metadata": {},
     "output_type": "execute_result"
    }
   ],
   "source": [
    "valid_macs = [i for i, mac in enumerate(macs) if mac != '00:0f:a3:39:dd:cd']\n",
    "valid_macs"
   ]
  },
  {
   "cell_type": "code",
   "execution_count": 41,
   "metadata": {},
   "outputs": [
    {
     "data": {
      "text/plain": [
       "[0, 1, 2, 3, 4, 5, 6, 7, 9, 10]"
      ]
     },
     "execution_count": 41,
     "metadata": {},
     "output_type": "execute_result"
    }
   ],
   "source": [
    "valid_indices = list(range(0, 4)) + [4 + i for i in valid_macs]\n",
    "valid_indices"
   ]
  },
  {
   "cell_type": "code",
   "execution_count": 42,
   "metadata": {},
   "outputs": [
    {
     "name": "stdout",
     "output_type": "stream",
     "text": [
      "Average error: 4.8654998878247095\n"
     ]
    },
    {
     "data": {
      "text/plain": [
       "<matplotlib.axes._subplots.AxesSubplot at 0x1230796a0>"
      ]
     },
     "execution_count": 42,
     "metadata": {},
     "output_type": "execute_result"
    },
    {
     "data": {
      "image/png": "[encoded data removed]",
      "text/plain": [
       "<matplotlib.figure.Figure at 0x1223aa0f0>"
      ]
     },
     "metadata": {},
     "output_type": "display_data"
    }
   ],
   "source": [
    "euclid_error = conduct_test(xs[:,valid_indices])\n",
    "print('Average error: {}'.format(euclid_error.mean()))\n",
    "\n",
    "%matplotlib inline\n",
    "sns.distplot(euclid_error)"
   ]
  },
  {
   "cell_type": "markdown",
   "metadata": {},
   "source": [
    "# Conclusion\n",
    "\n",
    "It appears that MAC `00:0f:a3:39:e1:c0` is slightly more effective for location prediction than `dd:cd`. While the difference is minor, deleting the former MAC has a more negative impact on prediction accuracy than deleting the latter. That said, the most effective predictions still occur when using all 7 beacons."
   ]
  }
 ],
 "metadata": {
  "kernelspec": {
   "display_name": "Python 3",
   "language": "python",
   "name": "python3"
  },
  "language_info": {
   "codemirror_mode": {
    "name": "ipython",
    "version": 3
   },
   "file_extension": ".py",
   "mimetype": "text/x-python",
   "name": "python",
   "nbconvert_exporter": "python",
   "pygments_lexer": "ipython3",
   "version": "3.6.1"
  }
 },
 "nbformat": 4,
 "nbformat_minor": 2
}
