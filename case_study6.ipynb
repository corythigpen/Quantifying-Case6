{
 "cells": [
  {
   "cell_type": "code",
   "execution_count": null,
   "metadata": {},
   "outputs": [],
   "source": [
    "import pandas as pd\n",
    "\n",
    "series = pd.read_table(\"http://rdatasciencecases.org/Data/offline.final.trace.txt\", squeeze=True, \n",
    "                       engine='python', skiprows=2, skipfooter=1)\n",
    "series.tail()"
   ]
  },
  {
   "cell_type": "code",
   "execution_count": null,
   "metadata": {
    "scrolled": true
   },
   "outputs": [],
   "source": [
    "df = pd.DataFrame([x.split(';') for x in series.values])\n",
    "df"
   ]
  },
  {
   "cell_type": "markdown",
   "metadata": {},
   "source": [
    "## Name rows"
   ]
  },
  {
   "cell_type": "code",
   "execution_count": null,
   "metadata": {},
   "outputs": [],
   "source": [
    "var_names = [x.split(\"=\")[0] for x in df.iloc[1][:4].values]\n",
    "\n",
    "var_names"
   ]
  },
  {
   "cell_type": "code",
   "execution_count": null,
   "metadata": {},
   "outputs": [],
   "source": [
    "mac_names = ['MAC_'+str(x) for x in range(len(df.iloc[1][4:].values))]\n",
    "\n",
    "mac_names"
   ]
  },
  {
   "cell_type": "code",
   "execution_count": null,
   "metadata": {},
   "outputs": [],
   "source": [
    "col_names = var_names + mac_names\n",
    "\n",
    "col_names"
   ]
  },
  {
   "cell_type": "code",
   "execution_count": null,
   "metadata": {},
   "outputs": [],
   "source": [
    "cols = dict(list(zip(df.columns.values, col_names)))\n",
    "\n",
    "cols"
   ]
  },
  {
   "cell_type": "code",
   "execution_count": null,
   "metadata": {},
   "outputs": [],
   "source": [
    "df.rename(columns=cols, inplace=True)\n",
    "df.head()"
   ]
  },
  {
   "cell_type": "markdown",
   "metadata": {},
   "source": [
    "## Set values\n",
    "\n",
    "### Time"
   ]
  },
  {
   "cell_type": "code",
   "execution_count": null,
   "metadata": {},
   "outputs": [],
   "source": [
    "df['t'] = df.t.str.replace(\"t=\", \"\")\n",
    "\n",
    "df.tail()"
   ]
  },
  {
   "cell_type": "markdown",
   "metadata": {},
   "source": [
    "## Position"
   ]
  },
  {
   "cell_type": "code",
   "execution_count": null,
   "metadata": {},
   "outputs": [],
   "source": [
    "df['pos'] = df.pos.str.replace(\"pos=\", \"\")\n",
    "\n",
    "df.tail()"
   ]
  },
  {
   "cell_type": "code",
   "execution_count": null,
   "metadata": {},
   "outputs": [],
   "source": [
    "d = {}\n",
    "for i, x in enumerate(df.pos.values):\n",
    "    if x != None:\n",
    "        temp = x.split(\",\")\n",
    "        d[i] = [float(y) for y in temp]\n",
    "    else:\n",
    "        d[i] = None\n",
    "\n",
    "pos = pd.Series(d)\n",
    "\n",
    "df['pos'] = pos\n",
    "\n",
    "df.pos"
   ]
  },
  {
   "cell_type": "code",
   "execution_count": null,
   "metadata": {},
   "outputs": [],
   "source": [
    "df.head()"
   ]
  },
  {
   "cell_type": "markdown",
   "metadata": {},
   "source": [
    "## Degree"
   ]
  },
  {
   "cell_type": "code",
   "execution_count": null,
   "metadata": {},
   "outputs": [],
   "source": [
    "df['degree'] = df.degree.str.replace(\"degree=\", \"\")\n",
    "\n",
    "df.tail()"
   ]
  },
  {
   "cell_type": "code",
   "execution_count": null,
   "metadata": {},
   "outputs": [],
   "source": [
    "df['degree'] = pd.to_numeric(df.degree, errors='coerce', downcast='float')\n",
    "\n",
    "df.head()"
   ]
  },
  {
   "cell_type": "markdown",
   "metadata": {},
   "source": [
    "## id"
   ]
  },
  {
   "cell_type": "code",
   "execution_count": null,
   "metadata": {},
   "outputs": [],
   "source": [
    "df['id'] = df.id.str.replace(\"id=\", \"\")\n",
    "\n",
    "df.head()"
   ]
  },
  {
   "cell_type": "markdown",
   "metadata": {},
   "source": [
    "# MAC Addresses"
   ]
  },
  {
   "cell_type": "code",
   "execution_count": null,
   "metadata": {},
   "outputs": [],
   "source": [
    "MAC = df.iloc[:,4:]\n",
    "MAC.head()"
   ]
  },
  {
   "cell_type": "code",
   "execution_count": null,
   "metadata": {
    "scrolled": false
   },
   "outputs": [],
   "source": [
    "l = []\n",
    "for col in MAC.columns:\n",
    "    d = {}\n",
    "    colString = '{}'.format(col)\n",
    "    for i, x in enumerate(df[colString].values):\n",
    "        if x != None:\n",
    "            temp = x.split(\"=\")\n",
    "            macId = temp[0]\n",
    "            coords = [int(y) for y in temp[1].split(\",\")]\n",
    "            d[i] = {macId: [coords[:2], coords[-1]]}\n",
    "            #import pdb; pdb.set_trace()\n",
    "        else:\n",
    "            d[i] = None\n",
    "    \n",
    "    df[colString] = pd.Series(d)\n",
    "    \n",
    "df.head()"
   ]
  },
  {
   "cell_type": "markdown",
   "metadata": {},
   "source": [
    "# Create new formatted file as a checkpoint"
   ]
  },
  {
   "cell_type": "code",
   "execution_count": null,
   "metadata": {
    "collapsed": true
   },
   "outputs": [],
   "source": [
    "df.to_pickle(\"mac.pkl\")"
   ]
  },
  {
   "cell_type": "code",
   "execution_count": 214,
   "metadata": {},
   "outputs": [
    {
     "data": {
      "text/html": [
       "<div>\n",
       "<table border=\"1\" class=\"dataframe\">\n",
       "  <thead>\n",
       "    <tr style=\"text-align: right;\">\n",
       "      <th></th>\n",
       "      <th>t</th>\n",
       "      <th>id</th>\n",
       "      <th>pos</th>\n",
       "      <th>degree</th>\n",
       "      <th>MAC_0</th>\n",
       "      <th>MAC_1</th>\n",
       "      <th>MAC_2</th>\n",
       "      <th>MAC_3</th>\n",
       "      <th>MAC_4</th>\n",
       "      <th>MAC_5</th>\n",
       "      <th>...</th>\n",
       "      <th>MAC_11</th>\n",
       "      <th>MAC_12</th>\n",
       "      <th>MAC_13</th>\n",
       "      <th>MAC_14</th>\n",
       "      <th>MAC_15</th>\n",
       "      <th>MAC_16</th>\n",
       "      <th>MAC_17</th>\n",
       "      <th>MAC_18</th>\n",
       "      <th>MAC_19</th>\n",
       "      <th>MAC_20</th>\n",
       "    </tr>\n",
       "  </thead>\n",
       "  <tbody>\n",
       "    <tr>\n",
       "      <th>0</th>\n",
       "      <td>1139643118358</td>\n",
       "      <td>00:02:2D:21:0F:33</td>\n",
       "      <td>[0.0, 0.0, 0.0]</td>\n",
       "      <td>0.0</td>\n",
       "      <td>{'00:14:bf:b1:97:8a': [[-38, 2437000000], 3]}</td>\n",
       "      <td>{'00:14:bf:b1:97:90': [[-56, 2427000000], 3]}</td>\n",
       "      <td>{'00:0f:a3:39:e1:c0': [[-53, 2462000000], 3]}</td>\n",
       "      <td>{'00:14:bf:b1:97:8d': [[-65, 2442000000], 3]}</td>\n",
       "      <td>{'00:14:bf:b1:97:81': [[-65, 2422000000], 3]}</td>\n",
       "      <td>{'00:14:bf:3b:c7:c6': [[-66, 2432000000], 3]}</td>\n",
       "      <td>...</td>\n",
       "      <td>None</td>\n",
       "      <td>None</td>\n",
       "      <td>None</td>\n",
       "      <td>None</td>\n",
       "      <td>None</td>\n",
       "      <td>None</td>\n",
       "      <td>None</td>\n",
       "      <td>None</td>\n",
       "      <td>None</td>\n",
       "      <td>None</td>\n",
       "    </tr>\n",
       "    <tr>\n",
       "      <th>1</th>\n",
       "      <td>1139643118744</td>\n",
       "      <td>00:02:2D:21:0F:33</td>\n",
       "      <td>[0.0, 0.0, 0.0]</td>\n",
       "      <td>0.0</td>\n",
       "      <td>{'00:14:bf:b1:97:8a': [[-38, 2437000000], 3]}</td>\n",
       "      <td>{'00:0f:a3:39:e1:c0': [[-54, 2462000000], 3]}</td>\n",
       "      <td>{'00:14:bf:b1:97:90': [[-56, 2427000000], 3]}</td>\n",
       "      <td>{'00:14:bf:3b:c7:c6': [[-67, 2432000000], 3]}</td>\n",
       "      <td>{'00:14:bf:b1:97:81': [[-66, 2422000000], 3]}</td>\n",
       "      <td>{'00:14:bf:b1:97:8d': [[-70, 2442000000], 3]}</td>\n",
       "      <td>...</td>\n",
       "      <td>None</td>\n",
       "      <td>None</td>\n",
       "      <td>None</td>\n",
       "      <td>None</td>\n",
       "      <td>None</td>\n",
       "      <td>None</td>\n",
       "      <td>None</td>\n",
       "      <td>None</td>\n",
       "      <td>None</td>\n",
       "      <td>None</td>\n",
       "    </tr>\n",
       "    <tr>\n",
       "      <th>2</th>\n",
       "      <td>1139643119002</td>\n",
       "      <td>00:02:2D:21:0F:33</td>\n",
       "      <td>[0.0, 0.0, 0.0]</td>\n",
       "      <td>0.0</td>\n",
       "      <td>{'00:14:bf:b1:97:8a': [[-38, 2437000000], 3]}</td>\n",
       "      <td>{'00:0f:a3:39:e1:c0': [[-54, 2462000000], 3]}</td>\n",
       "      <td>{'00:14:bf:b1:97:90': [[-57, 2427000000], 3]}</td>\n",
       "      <td>{'00:14:bf:b1:97:81': [[-66, 2422000000], 3]}</td>\n",
       "      <td>{'00:14:bf:3b:c7:c6': [[-69, 2432000000], 3]}</td>\n",
       "      <td>{'00:14:bf:b1:97:8d': [[-70, 2442000000], 3]}</td>\n",
       "      <td>...</td>\n",
       "      <td>None</td>\n",
       "      <td>None</td>\n",
       "      <td>None</td>\n",
       "      <td>None</td>\n",
       "      <td>None</td>\n",
       "      <td>None</td>\n",
       "      <td>None</td>\n",
       "      <td>None</td>\n",
       "      <td>None</td>\n",
       "      <td>None</td>\n",
       "    </tr>\n",
       "    <tr>\n",
       "      <th>3</th>\n",
       "      <td>1139643119263</td>\n",
       "      <td>00:02:2D:21:0F:33</td>\n",
       "      <td>[0.0, 0.0, 0.0]</td>\n",
       "      <td>0.0</td>\n",
       "      <td>{'00:14:bf:b1:97:8a': [[-38, 2437000000], 3]}</td>\n",
       "      <td>{'00:14:bf:b1:97:90': [[-52, 2427000000], 3]}</td>\n",
       "      <td>{'00:0f:a3:39:e1:c0': [[-54, 2462000000], 3]}</td>\n",
       "      <td>{'00:14:bf:b1:97:81': [[-64, 2422000000], 3]}</td>\n",
       "      <td>{'00:14:bf:3b:c7:c6': [[-68, 2432000000], 3]}</td>\n",
       "      <td>{'00:14:bf:b1:97:8d': [[-74, 2442000000], 3]}</td>\n",
       "      <td>...</td>\n",
       "      <td>None</td>\n",
       "      <td>None</td>\n",
       "      <td>None</td>\n",
       "      <td>None</td>\n",
       "      <td>None</td>\n",
       "      <td>None</td>\n",
       "      <td>None</td>\n",
       "      <td>None</td>\n",
       "      <td>None</td>\n",
       "      <td>None</td>\n",
       "    </tr>\n",
       "    <tr>\n",
       "      <th>4</th>\n",
       "      <td>1139643119538</td>\n",
       "      <td>00:02:2D:21:0F:33</td>\n",
       "      <td>[0.0, 0.0, 0.0]</td>\n",
       "      <td>0.0</td>\n",
       "      <td>{'00:14:bf:b1:97:8a': [[-46, 2437000000], 3]}</td>\n",
       "      <td>{'00:0f:a3:39:e1:c0': [[-55, 2462000000], 3]}</td>\n",
       "      <td>{'00:14:bf:b1:97:90': [[-57, 2427000000], 3]}</td>\n",
       "      <td>{'00:14:bf:3b:c7:c6': [[-67, 2432000000], 3]}</td>\n",
       "      <td>{'00:0f:a3:39:dd:cd': [[-66, 2412000000], 3]}</td>\n",
       "      <td>{'00:0f:a3:39:e0:4b': [[-80, 2462000000], 3]}</td>\n",
       "      <td>...</td>\n",
       "      <td>None</td>\n",
       "      <td>None</td>\n",
       "      <td>None</td>\n",
       "      <td>None</td>\n",
       "      <td>None</td>\n",
       "      <td>None</td>\n",
       "      <td>None</td>\n",
       "      <td>None</td>\n",
       "      <td>None</td>\n",
       "      <td>None</td>\n",
       "    </tr>\n",
       "  </tbody>\n",
       "</table>\n",
       "<p>5 rows × 25 columns</p>\n",
       "</div>"
      ],
      "text/plain": [
       "               t                 id              pos  degree  \\\n",
       "0  1139643118358  00:02:2D:21:0F:33  [0.0, 0.0, 0.0]     0.0   \n",
       "1  1139643118744  00:02:2D:21:0F:33  [0.0, 0.0, 0.0]     0.0   \n",
       "2  1139643119002  00:02:2D:21:0F:33  [0.0, 0.0, 0.0]     0.0   \n",
       "3  1139643119263  00:02:2D:21:0F:33  [0.0, 0.0, 0.0]     0.0   \n",
       "4  1139643119538  00:02:2D:21:0F:33  [0.0, 0.0, 0.0]     0.0   \n",
       "\n",
       "                                           MAC_0  \\\n",
       "0  {'00:14:bf:b1:97:8a': [[-38, 2437000000], 3]}   \n",
       "1  {'00:14:bf:b1:97:8a': [[-38, 2437000000], 3]}   \n",
       "2  {'00:14:bf:b1:97:8a': [[-38, 2437000000], 3]}   \n",
       "3  {'00:14:bf:b1:97:8a': [[-38, 2437000000], 3]}   \n",
       "4  {'00:14:bf:b1:97:8a': [[-46, 2437000000], 3]}   \n",
       "\n",
       "                                           MAC_1  \\\n",
       "0  {'00:14:bf:b1:97:90': [[-56, 2427000000], 3]}   \n",
       "1  {'00:0f:a3:39:e1:c0': [[-54, 2462000000], 3]}   \n",
       "2  {'00:0f:a3:39:e1:c0': [[-54, 2462000000], 3]}   \n",
       "3  {'00:14:bf:b1:97:90': [[-52, 2427000000], 3]}   \n",
       "4  {'00:0f:a3:39:e1:c0': [[-55, 2462000000], 3]}   \n",
       "\n",
       "                                           MAC_2  \\\n",
       "0  {'00:0f:a3:39:e1:c0': [[-53, 2462000000], 3]}   \n",
       "1  {'00:14:bf:b1:97:90': [[-56, 2427000000], 3]}   \n",
       "2  {'00:14:bf:b1:97:90': [[-57, 2427000000], 3]}   \n",
       "3  {'00:0f:a3:39:e1:c0': [[-54, 2462000000], 3]}   \n",
       "4  {'00:14:bf:b1:97:90': [[-57, 2427000000], 3]}   \n",
       "\n",
       "                                           MAC_3  \\\n",
       "0  {'00:14:bf:b1:97:8d': [[-65, 2442000000], 3]}   \n",
       "1  {'00:14:bf:3b:c7:c6': [[-67, 2432000000], 3]}   \n",
       "2  {'00:14:bf:b1:97:81': [[-66, 2422000000], 3]}   \n",
       "3  {'00:14:bf:b1:97:81': [[-64, 2422000000], 3]}   \n",
       "4  {'00:14:bf:3b:c7:c6': [[-67, 2432000000], 3]}   \n",
       "\n",
       "                                           MAC_4  \\\n",
       "0  {'00:14:bf:b1:97:81': [[-65, 2422000000], 3]}   \n",
       "1  {'00:14:bf:b1:97:81': [[-66, 2422000000], 3]}   \n",
       "2  {'00:14:bf:3b:c7:c6': [[-69, 2432000000], 3]}   \n",
       "3  {'00:14:bf:3b:c7:c6': [[-68, 2432000000], 3]}   \n",
       "4  {'00:0f:a3:39:dd:cd': [[-66, 2412000000], 3]}   \n",
       "\n",
       "                                           MAC_5  ...   MAC_11 MAC_12 MAC_13  \\\n",
       "0  {'00:14:bf:3b:c7:c6': [[-66, 2432000000], 3]}  ...     None   None   None   \n",
       "1  {'00:14:bf:b1:97:8d': [[-70, 2442000000], 3]}  ...     None   None   None   \n",
       "2  {'00:14:bf:b1:97:8d': [[-70, 2442000000], 3]}  ...     None   None   None   \n",
       "3  {'00:14:bf:b1:97:8d': [[-74, 2442000000], 3]}  ...     None   None   None   \n",
       "4  {'00:0f:a3:39:e0:4b': [[-80, 2462000000], 3]}  ...     None   None   None   \n",
       "\n",
       "  MAC_14 MAC_15 MAC_16 MAC_17 MAC_18 MAC_19 MAC_20  \n",
       "0   None   None   None   None   None   None   None  \n",
       "1   None   None   None   None   None   None   None  \n",
       "2   None   None   None   None   None   None   None  \n",
       "3   None   None   None   None   None   None   None  \n",
       "4   None   None   None   None   None   None   None  \n",
       "\n",
       "[5 rows x 25 columns]"
      ]
     },
     "execution_count": 214,
     "metadata": {},
     "output_type": "execute_result"
    }
   ],
   "source": [
    "import pandas as pd\n",
    "\n",
    "df = pd.read_pickle(\"mac.pkl\")\n",
    "df.head()"
   ]
  },
  {
   "cell_type": "markdown",
   "metadata": {},
   "source": [
    "# Clean Data"
   ]
  },
  {
   "cell_type": "code",
   "execution_count": 215,
   "metadata": {},
   "outputs": [
    {
     "data": {
      "text/plain": [
       "t         151388\n",
       "id        146080\n",
       "pos       146080\n",
       "degree    146080\n",
       "MAC_0     146074\n",
       "MAC_1     146041\n",
       "MAC_2     146030\n",
       "MAC_3     145965\n",
       "MAC_4     145308\n",
       "MAC_5     141435\n",
       "MAC_6     127802\n",
       "MAC_7      97147\n",
       "MAC_8      54627\n",
       "MAC_9      21489\n",
       "MAC_10      6926\n",
       "MAC_11      1860\n",
       "MAC_12       566\n",
       "MAC_13       218\n",
       "MAC_14        85\n",
       "MAC_15        36\n",
       "MAC_16        13\n",
       "MAC_17         3\n",
       "MAC_18         1\n",
       "MAC_19         1\n",
       "MAC_20         1\n",
       "dtype: int64"
      ]
     },
     "execution_count": 215,
     "metadata": {},
     "output_type": "execute_result"
    }
   ],
   "source": [
    "df.count()"
   ]
  },
  {
   "cell_type": "markdown",
   "metadata": {},
   "source": [
    "# Shape of id, pos, degree are equal"
   ]
  },
  {
   "cell_type": "code",
   "execution_count": 216,
   "metadata": {},
   "outputs": [],
   "source": [
    "df5 = df[df.MAC_5.notnull()==True]"
   ]
  },
  {
   "cell_type": "markdown",
   "metadata": {},
   "source": [
    "## Use 6 access points \"MAC_5\" and ommit all rows with nulls for \"MAC_5\""
   ]
  },
  {
   "cell_type": "code",
   "execution_count": 217,
   "metadata": {},
   "outputs": [
    {
     "data": {
      "text/plain": [
       "False"
      ]
     },
     "execution_count": 217,
     "metadata": {},
     "output_type": "execute_result"
    }
   ],
   "source": [
    "df5.MAC_5.isnull().any()"
   ]
  },
  {
   "cell_type": "code",
   "execution_count": 219,
   "metadata": {},
   "outputs": [
    {
     "data": {
      "text/plain": [
       "t         141435\n",
       "id        141435\n",
       "pos       141435\n",
       "degree    141435\n",
       "MAC_0     141435\n",
       "MAC_1     141435\n",
       "MAC_2     141435\n",
       "MAC_3     141435\n",
       "MAC_4     141435\n",
       "MAC_5     141435\n",
       "MAC_6     127802\n",
       "MAC_7      97147\n",
       "MAC_8      54627\n",
       "MAC_9      21489\n",
       "MAC_10      6926\n",
       "MAC_11      1860\n",
       "MAC_12       566\n",
       "MAC_13       218\n",
       "MAC_14        85\n",
       "MAC_15        36\n",
       "MAC_16        13\n",
       "MAC_17         3\n",
       "MAC_18         1\n",
       "MAC_19         1\n",
       "MAC_20         1\n",
       "dtype: int64"
      ]
     },
     "execution_count": 219,
     "metadata": {},
     "output_type": "execute_result"
    }
   ],
   "source": [
    "df5.count()"
   ]
  },
  {
   "cell_type": "markdown",
   "metadata": {},
   "source": [
    "## Set new data frame as columns to MAC_9, ommitting 11-20"
   ]
  },
  {
   "cell_type": "code",
   "execution_count": 220,
   "metadata": {
    "scrolled": true
   },
   "outputs": [
    {
     "data": {
      "text/html": [
       "<div>\n",
       "<table border=\"1\" class=\"dataframe\">\n",
       "  <thead>\n",
       "    <tr style=\"text-align: right;\">\n",
       "      <th></th>\n",
       "      <th>t</th>\n",
       "      <th>id</th>\n",
       "      <th>pos</th>\n",
       "      <th>degree</th>\n",
       "      <th>MAC_0</th>\n",
       "      <th>MAC_1</th>\n",
       "      <th>MAC_2</th>\n",
       "      <th>MAC_3</th>\n",
       "      <th>MAC_4</th>\n",
       "      <th>MAC_5</th>\n",
       "      <th>MAC_6</th>\n",
       "      <th>MAC_7</th>\n",
       "      <th>MAC_8</th>\n",
       "      <th>MAC_9</th>\n",
       "      <th>MAC_10</th>\n",
       "    </tr>\n",
       "  </thead>\n",
       "  <tbody>\n",
       "    <tr>\n",
       "      <th>0</th>\n",
       "      <td>1139643118358</td>\n",
       "      <td>00:02:2D:21:0F:33</td>\n",
       "      <td>[0.0, 0.0, 0.0]</td>\n",
       "      <td>0.0</td>\n",
       "      <td>{'00:14:bf:b1:97:8a': [[-38, 2437000000], 3]}</td>\n",
       "      <td>{'00:14:bf:b1:97:90': [[-56, 2427000000], 3]}</td>\n",
       "      <td>{'00:0f:a3:39:e1:c0': [[-53, 2462000000], 3]}</td>\n",
       "      <td>{'00:14:bf:b1:97:8d': [[-65, 2442000000], 3]}</td>\n",
       "      <td>{'00:14:bf:b1:97:81': [[-65, 2422000000], 3]}</td>\n",
       "      <td>{'00:14:bf:3b:c7:c6': [[-66, 2432000000], 3]}</td>\n",
       "      <td>{'00:0f:a3:39:dd:cd': [[-75, 2412000000], 3]}</td>\n",
       "      <td>{'00:0f:a3:39:e0:4b': [[-78, 2462000000], 3]}</td>\n",
       "      <td>{'00:0f:a3:39:e2:10': [[-87, 2437000000], 3]}</td>\n",
       "      <td>{'02:64:fb:68:52:e6': [[-88, 2447000000], 1]}</td>\n",
       "      <td>{'02:00:42:55:31:00': [[-84, 2457000000], 1]}</td>\n",
       "    </tr>\n",
       "    <tr>\n",
       "      <th>1</th>\n",
       "      <td>1139643118744</td>\n",
       "      <td>00:02:2D:21:0F:33</td>\n",
       "      <td>[0.0, 0.0, 0.0]</td>\n",
       "      <td>0.0</td>\n",
       "      <td>{'00:14:bf:b1:97:8a': [[-38, 2437000000], 3]}</td>\n",
       "      <td>{'00:0f:a3:39:e1:c0': [[-54, 2462000000], 3]}</td>\n",
       "      <td>{'00:14:bf:b1:97:90': [[-56, 2427000000], 3]}</td>\n",
       "      <td>{'00:14:bf:3b:c7:c6': [[-67, 2432000000], 3]}</td>\n",
       "      <td>{'00:14:bf:b1:97:81': [[-66, 2422000000], 3]}</td>\n",
       "      <td>{'00:14:bf:b1:97:8d': [[-70, 2442000000], 3]}</td>\n",
       "      <td>{'00:0f:a3:39:e0:4b': [[-79, 2462000000], 3]}</td>\n",
       "      <td>{'00:0f:a3:39:dd:cd': [[-73, 2412000000], 3]}</td>\n",
       "      <td>{'00:0f:a3:39:e2:10': [[-83, 2437000000], 3]}</td>\n",
       "      <td>{'02:00:42:55:31:00': [[-85, 2457000000], 1]}</td>\n",
       "      <td>None</td>\n",
       "    </tr>\n",
       "    <tr>\n",
       "      <th>2</th>\n",
       "      <td>1139643119002</td>\n",
       "      <td>00:02:2D:21:0F:33</td>\n",
       "      <td>[0.0, 0.0, 0.0]</td>\n",
       "      <td>0.0</td>\n",
       "      <td>{'00:14:bf:b1:97:8a': [[-38, 2437000000], 3]}</td>\n",
       "      <td>{'00:0f:a3:39:e1:c0': [[-54, 2462000000], 3]}</td>\n",
       "      <td>{'00:14:bf:b1:97:90': [[-57, 2427000000], 3]}</td>\n",
       "      <td>{'00:14:bf:b1:97:81': [[-66, 2422000000], 3]}</td>\n",
       "      <td>{'00:14:bf:3b:c7:c6': [[-69, 2432000000], 3]}</td>\n",
       "      <td>{'00:14:bf:b1:97:8d': [[-70, 2442000000], 3]}</td>\n",
       "      <td>{'00:0f:a3:39:e0:4b': [[-78, 2462000000], 3]}</td>\n",
       "      <td>{'00:0f:a3:39:e2:10': [[-83, 2437000000], 3]}</td>\n",
       "      <td>{'00:0f:a3:39:dd:cd': [[-65, 2412000000], 3]}</td>\n",
       "      <td>{'02:64:fb:68:52:e6': [[-90, 2447000000], 1]}</td>\n",
       "      <td>None</td>\n",
       "    </tr>\n",
       "    <tr>\n",
       "      <th>3</th>\n",
       "      <td>1139643119263</td>\n",
       "      <td>00:02:2D:21:0F:33</td>\n",
       "      <td>[0.0, 0.0, 0.0]</td>\n",
       "      <td>0.0</td>\n",
       "      <td>{'00:14:bf:b1:97:8a': [[-38, 2437000000], 3]}</td>\n",
       "      <td>{'00:14:bf:b1:97:90': [[-52, 2427000000], 3]}</td>\n",
       "      <td>{'00:0f:a3:39:e1:c0': [[-54, 2462000000], 3]}</td>\n",
       "      <td>{'00:14:bf:b1:97:81': [[-64, 2422000000], 3]}</td>\n",
       "      <td>{'00:14:bf:3b:c7:c6': [[-68, 2432000000], 3]}</td>\n",
       "      <td>{'00:14:bf:b1:97:8d': [[-74, 2442000000], 3]}</td>\n",
       "      <td>{'00:0f:a3:39:dd:cd': [[-78, 2412000000], 3]}</td>\n",
       "      <td>{'00:0f:a3:39:e0:4b': [[-78, 2462000000], 3]}</td>\n",
       "      <td>{'00:0f:a3:39:e2:10': [[-83, 2437000000], 3]}</td>\n",
       "      <td>{'02:00:42:55:31:00': [[-84, 2457000000], 1]}</td>\n",
       "      <td>{'02:64:fb:68:52:e6': [[-87, 2447000000], 1]}</td>\n",
       "    </tr>\n",
       "    <tr>\n",
       "      <th>4</th>\n",
       "      <td>1139643119538</td>\n",
       "      <td>00:02:2D:21:0F:33</td>\n",
       "      <td>[0.0, 0.0, 0.0]</td>\n",
       "      <td>0.0</td>\n",
       "      <td>{'00:14:bf:b1:97:8a': [[-46, 2437000000], 3]}</td>\n",
       "      <td>{'00:0f:a3:39:e1:c0': [[-55, 2462000000], 3]}</td>\n",
       "      <td>{'00:14:bf:b1:97:90': [[-57, 2427000000], 3]}</td>\n",
       "      <td>{'00:14:bf:3b:c7:c6': [[-67, 2432000000], 3]}</td>\n",
       "      <td>{'00:0f:a3:39:dd:cd': [[-66, 2412000000], 3]}</td>\n",
       "      <td>{'00:0f:a3:39:e0:4b': [[-80, 2462000000], 3]}</td>\n",
       "      <td>{'00:0f:a3:39:e2:10': [[-83, 2437000000], 3]}</td>\n",
       "      <td>{'00:14:bf:b1:97:81': [[-66, 2422000000], 3]}</td>\n",
       "      <td>{'02:00:42:55:31:00': [[-87, 2457000000], 1]}</td>\n",
       "      <td>None</td>\n",
       "      <td>None</td>\n",
       "    </tr>\n",
       "  </tbody>\n",
       "</table>\n",
       "</div>"
      ],
      "text/plain": [
       "               t                 id              pos  degree  \\\n",
       "0  1139643118358  00:02:2D:21:0F:33  [0.0, 0.0, 0.0]     0.0   \n",
       "1  1139643118744  00:02:2D:21:0F:33  [0.0, 0.0, 0.0]     0.0   \n",
       "2  1139643119002  00:02:2D:21:0F:33  [0.0, 0.0, 0.0]     0.0   \n",
       "3  1139643119263  00:02:2D:21:0F:33  [0.0, 0.0, 0.0]     0.0   \n",
       "4  1139643119538  00:02:2D:21:0F:33  [0.0, 0.0, 0.0]     0.0   \n",
       "\n",
       "                                           MAC_0  \\\n",
       "0  {'00:14:bf:b1:97:8a': [[-38, 2437000000], 3]}   \n",
       "1  {'00:14:bf:b1:97:8a': [[-38, 2437000000], 3]}   \n",
       "2  {'00:14:bf:b1:97:8a': [[-38, 2437000000], 3]}   \n",
       "3  {'00:14:bf:b1:97:8a': [[-38, 2437000000], 3]}   \n",
       "4  {'00:14:bf:b1:97:8a': [[-46, 2437000000], 3]}   \n",
       "\n",
       "                                           MAC_1  \\\n",
       "0  {'00:14:bf:b1:97:90': [[-56, 2427000000], 3]}   \n",
       "1  {'00:0f:a3:39:e1:c0': [[-54, 2462000000], 3]}   \n",
       "2  {'00:0f:a3:39:e1:c0': [[-54, 2462000000], 3]}   \n",
       "3  {'00:14:bf:b1:97:90': [[-52, 2427000000], 3]}   \n",
       "4  {'00:0f:a3:39:e1:c0': [[-55, 2462000000], 3]}   \n",
       "\n",
       "                                           MAC_2  \\\n",
       "0  {'00:0f:a3:39:e1:c0': [[-53, 2462000000], 3]}   \n",
       "1  {'00:14:bf:b1:97:90': [[-56, 2427000000], 3]}   \n",
       "2  {'00:14:bf:b1:97:90': [[-57, 2427000000], 3]}   \n",
       "3  {'00:0f:a3:39:e1:c0': [[-54, 2462000000], 3]}   \n",
       "4  {'00:14:bf:b1:97:90': [[-57, 2427000000], 3]}   \n",
       "\n",
       "                                           MAC_3  \\\n",
       "0  {'00:14:bf:b1:97:8d': [[-65, 2442000000], 3]}   \n",
       "1  {'00:14:bf:3b:c7:c6': [[-67, 2432000000], 3]}   \n",
       "2  {'00:14:bf:b1:97:81': [[-66, 2422000000], 3]}   \n",
       "3  {'00:14:bf:b1:97:81': [[-64, 2422000000], 3]}   \n",
       "4  {'00:14:bf:3b:c7:c6': [[-67, 2432000000], 3]}   \n",
       "\n",
       "                                           MAC_4  \\\n",
       "0  {'00:14:bf:b1:97:81': [[-65, 2422000000], 3]}   \n",
       "1  {'00:14:bf:b1:97:81': [[-66, 2422000000], 3]}   \n",
       "2  {'00:14:bf:3b:c7:c6': [[-69, 2432000000], 3]}   \n",
       "3  {'00:14:bf:3b:c7:c6': [[-68, 2432000000], 3]}   \n",
       "4  {'00:0f:a3:39:dd:cd': [[-66, 2412000000], 3]}   \n",
       "\n",
       "                                           MAC_5  \\\n",
       "0  {'00:14:bf:3b:c7:c6': [[-66, 2432000000], 3]}   \n",
       "1  {'00:14:bf:b1:97:8d': [[-70, 2442000000], 3]}   \n",
       "2  {'00:14:bf:b1:97:8d': [[-70, 2442000000], 3]}   \n",
       "3  {'00:14:bf:b1:97:8d': [[-74, 2442000000], 3]}   \n",
       "4  {'00:0f:a3:39:e0:4b': [[-80, 2462000000], 3]}   \n",
       "\n",
       "                                           MAC_6  \\\n",
       "0  {'00:0f:a3:39:dd:cd': [[-75, 2412000000], 3]}   \n",
       "1  {'00:0f:a3:39:e0:4b': [[-79, 2462000000], 3]}   \n",
       "2  {'00:0f:a3:39:e0:4b': [[-78, 2462000000], 3]}   \n",
       "3  {'00:0f:a3:39:dd:cd': [[-78, 2412000000], 3]}   \n",
       "4  {'00:0f:a3:39:e2:10': [[-83, 2437000000], 3]}   \n",
       "\n",
       "                                           MAC_7  \\\n",
       "0  {'00:0f:a3:39:e0:4b': [[-78, 2462000000], 3]}   \n",
       "1  {'00:0f:a3:39:dd:cd': [[-73, 2412000000], 3]}   \n",
       "2  {'00:0f:a3:39:e2:10': [[-83, 2437000000], 3]}   \n",
       "3  {'00:0f:a3:39:e0:4b': [[-78, 2462000000], 3]}   \n",
       "4  {'00:14:bf:b1:97:81': [[-66, 2422000000], 3]}   \n",
       "\n",
       "                                           MAC_8  \\\n",
       "0  {'00:0f:a3:39:e2:10': [[-87, 2437000000], 3]}   \n",
       "1  {'00:0f:a3:39:e2:10': [[-83, 2437000000], 3]}   \n",
       "2  {'00:0f:a3:39:dd:cd': [[-65, 2412000000], 3]}   \n",
       "3  {'00:0f:a3:39:e2:10': [[-83, 2437000000], 3]}   \n",
       "4  {'02:00:42:55:31:00': [[-87, 2457000000], 1]}   \n",
       "\n",
       "                                           MAC_9  \\\n",
       "0  {'02:64:fb:68:52:e6': [[-88, 2447000000], 1]}   \n",
       "1  {'02:00:42:55:31:00': [[-85, 2457000000], 1]}   \n",
       "2  {'02:64:fb:68:52:e6': [[-90, 2447000000], 1]}   \n",
       "3  {'02:00:42:55:31:00': [[-84, 2457000000], 1]}   \n",
       "4                                           None   \n",
       "\n",
       "                                          MAC_10  \n",
       "0  {'02:00:42:55:31:00': [[-84, 2457000000], 1]}  \n",
       "1                                           None  \n",
       "2                                           None  \n",
       "3  {'02:64:fb:68:52:e6': [[-87, 2447000000], 1]}  \n",
       "4                                           None  "
      ]
     },
     "execution_count": 220,
     "metadata": {},
     "output_type": "execute_result"
    }
   ],
   "source": [
    "df5_10 = df5.iloc[:,:15]\n",
    "\n",
    "df5_10.head()"
   ]
  },
  {
   "cell_type": "markdown",
   "metadata": {},
   "source": [
    "# Focus on not null data"
   ]
  },
  {
   "cell_type": "code",
   "execution_count": 221,
   "metadata": {},
   "outputs": [],
   "source": [
    "df = df5.iloc[:,:10]"
   ]
  },
  {
   "cell_type": "code",
   "execution_count": 222,
   "metadata": {},
   "outputs": [
    {
     "data": {
      "text/plain": [
       "t         False\n",
       "id        False\n",
       "pos       False\n",
       "degree    False\n",
       "MAC_0     False\n",
       "MAC_1     False\n",
       "MAC_2     False\n",
       "MAC_3     False\n",
       "MAC_4     False\n",
       "MAC_5     False\n",
       "dtype: bool"
      ]
     },
     "execution_count": 222,
     "metadata": {},
     "output_type": "execute_result"
    }
   ],
   "source": [
    "df.isnull().any()"
   ]
  },
  {
   "cell_type": "code",
   "execution_count": null,
   "metadata": {
    "collapsed": true
   },
   "outputs": [],
   "source": []
  }
 ],
 "metadata": {
  "kernelspec": {
   "display_name": "Python 3",
   "language": "python",
   "name": "python3"
  },
  "language_info": {
   "codemirror_mode": {
    "name": "ipython",
    "version": 3
   },
   "file_extension": ".py",
   "mimetype": "text/x-python",
   "name": "python",
   "nbconvert_exporter": "python",
   "pygments_lexer": "ipython3",
   "version": "3.6.1"
  }
 },
 "nbformat": 4,
 "nbformat_minor": 2
}
